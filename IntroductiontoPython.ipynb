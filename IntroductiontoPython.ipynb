{
  "nbformat": 4,
  "nbformat_minor": 0,
  "metadata": {
    "colab": {
      "name": "IntroductiontoPython.ipynb",
      "provenance": [],
      "authorship_tag": "ABX9TyM/iEEsk6krPT27p3ERMvec",
      "include_colab_link": true
    },
    "kernelspec": {
      "name": "python3",
      "display_name": "Python 3"
    }
  },
  "cells": [
    {
      "cell_type": "markdown",
      "metadata": {
        "id": "view-in-github",
        "colab_type": "text"
      },
      "source": [
        "<a href=\"https://colab.research.google.com/github/Priyankk18k/Analytics-basics-R/blob/master/IntroductiontoPython.ipynb\" target=\"_parent\"><img src=\"https://colab.research.google.com/assets/colab-badge.svg\" alt=\"Open In Colab\"/></a>"
      ]
    },
    {
      "cell_type": "code",
      "metadata": {
        "id": "QDDeTjr2JrM9",
        "colab_type": "code",
        "outputId": "e1817268-1cef-47a4-be1d-09c207db4bdd",
        "colab": {
          "base_uri": "https://localhost:8080/",
          "height": 34
        }
      },
      "source": [
        "# Python code for \"Hello World\"   \n",
        "print(\"Hello World\") "
      ],
      "execution_count": 0,
      "outputs": [
        {
          "output_type": "stream",
          "text": [
            "Hello World\n"
          ],
          "name": "stdout"
        }
      ]
    },
    {
      "cell_type": "code",
      "metadata": {
        "id": "enc7SucPJ85T",
        "colab_type": "code",
        "outputId": "7336c5eb-d02a-469f-e6be-1c5f070526f3",
        "colab": {
          "base_uri": "https://localhost:8080/",
          "height": 68
        }
      },
      "source": [
        "# Python program to declare variables \n",
        "myNumber = 3\n",
        "print(myNumber) \n",
        "  \n",
        "myNumber2 = 4.5\n",
        "print(myNumber2) \n",
        "  \n",
        "myNumber = \"helloworld\"\n",
        "print(myNumber) \n",
        "\n",
        "\n",
        "thisIsALaptop\n",
        "this_is_a_laptop"
      ],
      "execution_count": 0,
      "outputs": [
        {
          "output_type": "stream",
          "text": [
            "3\n",
            "4.5\n",
            "helloworld\n"
          ],
          "name": "stdout"
        }
      ]
    },
    {
      "cell_type": "code",
      "metadata": {
        "id": "lNFWakrsKLHj",
        "colab_type": "code",
        "colab": {}
      },
      "source": [
        "# camelCase\n",
        "# Define Everything in camelCase. First word should be in small then for a new word the first letter in the Capital.\n",
        "# This is what follows in the industry."
      ],
      "execution_count": 0,
      "outputs": []
    },
    {
      "cell_type": "markdown",
      "metadata": {
        "id": "JqHz2qrFKryT",
        "colab_type": "text"
      },
      "source": [
        "# Data Structures in Python\n",
        "# 1- List."
      ]
    },
    {
      "cell_type": "code",
      "metadata": {
        "id": "cPBIPvSNKkUJ",
        "colab_type": "code",
        "outputId": "b44ee82f-8534-4d6d-d081-0c97a0de4091",
        "colab": {
          "base_uri": "https://localhost:8080/",
          "height": 34
        }
      },
      "source": [
        "# List is the most basic Data Structure in python. \n",
        "# List is mutable data structure i.e items can be added to list later after the list creation.\n",
        "# Example :- You are going to buy fruits in a market. Now later you can add or remove fruits from you bastet or list.\n",
        "\n",
        "myFirstList = []\n",
        "# myFirstList = list()\n",
        "myFirstList.append(21) \n",
        "myFirstList.append(40.5) \n",
        "myFirstList.append(\"String\") \n",
        "# myFirstList.pop(1)  \n",
        "print(myFirstList) \n",
        "# List Can contain Any type of data inside it."
      ],
      "execution_count": 0,
      "outputs": [
        {
          "output_type": "stream",
          "text": [
            "[21, 40.5, 'String']\n"
          ],
          "name": "stdout"
        }
      ]
    },
    {
      "cell_type": "markdown",
      "metadata": {
        "id": "aR8VUcmVMC7-",
        "colab_type": "text"
      },
      "source": [
        "# 2- Tuple"
      ]
    },
    {
      "cell_type": "code",
      "metadata": {
        "id": "mdWuSUdBKu_N",
        "colab_type": "code",
        "outputId": "6c474ee9-ad21-4b10-e21e-c55a330fc0a9",
        "colab": {
          "base_uri": "https://localhost:8080/",
          "height": 221
        }
      },
      "source": [
        "#Creating an empty Tuple \n",
        "Tuple1 = () \n",
        "print(\"Initial empty Tuple: \") \n",
        "print(Tuple1) \n",
        "  \n",
        "#Creatting a Tuple  \n",
        "#with the use of string\n",
        "# Tuple1 is overwriting itself. \n",
        "Tuple1 = ('Tuple', 'Class') \n",
        "print(\"\\nTuple with the use of String: \") \n",
        "print(Tuple1) \n",
        "\n",
        "  \n",
        "# Creating a Tuple with \n",
        "# the use of list \n",
        "list1 = [1, 2, 4, 5, 6] \n",
        "print(\"\\nTuple using List: \") \n",
        "print(tuple(list1)) \n",
        "\n",
        "# tuple(list)  \n",
        "\n",
        "tuple1 = (1,2,3)\n",
        "print(list(tuple1))\n",
        "\n",
        "\n",
        "#Creating a Tuple  \n",
        "#with the use of built-in function \n",
        "Tuple1 = tuple('Class') \n",
        "print(\"\\nTuple with the use of function: \") \n",
        "print(Tuple1)\n",
        "\n"
      ],
      "execution_count": 0,
      "outputs": [
        {
          "output_type": "stream",
          "text": [
            "Initial empty Tuple: \n",
            "()\n",
            "\n",
            "Tuple with the use of String: \n",
            "('Tuple', 'Class')\n",
            "\n",
            "Tuple using List: \n",
            "(1, 2, 4, 5, 6)\n",
            "[1, 2, 3]\n",
            "\n",
            "Tuple with the use of function: \n",
            "('C', 'l', 'a', 's', 's')\n"
          ],
          "name": "stdout"
        }
      ]
    },
    {
      "cell_type": "markdown",
      "metadata": {
        "id": "cIWEfn7cNR11",
        "colab_type": "text"
      },
      "source": [
        "# 3 - Dictionary or Hash Map in other languages"
      ]
    },
    {
      "cell_type": "code",
      "metadata": {
        "id": "9r2HltdiMGcD",
        "colab_type": "code",
        "colab": {}
      },
      "source": [
        "json = {}"
      ],
      "execution_count": 0,
      "outputs": []
    },
    {
      "cell_type": "code",
      "metadata": {
        "id": "-nnyCOpBMM4g",
        "colab_type": "code",
        "outputId": "a93c20b9-d8fb-4bd8-c185-9f3a109755a0",
        "colab": {
          "base_uri": "https://localhost:8080/",
          "height": 136
        }
      },
      "source": [
        "# Combination of Key Value Pairs.\n",
        "# Creating a Dictionary.  \n",
        "# with Integer Keys. \n",
        "# Define By {}\n",
        "Dict = {1: 'Your', 2: 'first', 3: 'class'} \n",
        "print(\"\\nDictionary with the use of Integer Keys: \") \n",
        "print(Dict) \n",
        "  \n",
        "# Creating a Dictionary  \n",
        "# with Mixed keys \n",
        "Dict = {'Name': 'First', 1: [1, 2, 3, 4]} \n",
        "print(\"\\nDictionary with the use of Mixed Keys: \") \n",
        "print(Dict) \n",
        "\n",
        "\n",
        "# Nested Dictionary\n",
        "Dict = {1: 'Geeks', 2: 'For',  \n",
        "        3:{'A' : 'Welcome', 'B' : 'To', 'C' : 'Geeks'}} \n",
        "  \n",
        "print(Dict) "
      ],
      "execution_count": 0,
      "outputs": [
        {
          "output_type": "stream",
          "text": [
            "\n",
            "Dictionary with the use of Integer Keys: \n",
            "{1: 'Your', 2: 'first', 3: 'class'}\n",
            "\n",
            "Dictionary with the use of Mixed Keys: \n",
            "{'Name': 'First', 1: [1, 2, 3, 4]}\n",
            "{1: 'Geeks', 2: 'For', 3: {'A': 'Welcome', 'B': 'To', 'C': 'Geeks'}}\n"
          ],
          "name": "stdout"
        }
      ]
    },
    {
      "cell_type": "markdown",
      "metadata": {
        "id": "LlARg591OaXl",
        "colab_type": "text"
      },
      "source": [
        "# Functions in Python"
      ]
    },
    {
      "cell_type": "code",
      "metadata": {
        "id": "3ltIcjnhNuhq",
        "colab_type": "code",
        "outputId": "ca42aabf-e20a-4a99-e3a7-96d42fae718d",
        "colab": {
          "base_uri": "https://localhost:8080/",
          "height": 68
        }
      },
      "source": [
        "# We Use A def Keyword for a Fucntions\n",
        "\n",
        "def myFirstFunction():\n",
        "  return\n",
        "\n",
        "# Now Suppose We want to build a fucntion for Addition.\n",
        "\n",
        "def addition(a, b, c, d):\n",
        "  sum = a+b+c+d\n",
        "  return sum\n",
        "\n",
        "\n",
        "# If Else\n",
        "def multiplication(a= None, b= None, c=None):\n",
        "  if c == None:\n",
        "    sum = a*b\n",
        "    return sum\n",
        "  elif b == None and c == None:\n",
        "    sum = a\n",
        "    return sum\n",
        "  else:\n",
        "    sum = a*b*c    \n",
        "    return sum\n",
        "\n",
        "# Calling a Function.\n",
        "\n",
        "print(\"First Sum :-\", addition(1,2,3,4))\n",
        "print(\"multiplication:-\", multiplication(1,2,3))\n",
        "print(\"multiplication:-\", multiplication(1,2))\n"
      ],
      "execution_count": 0,
      "outputs": [
        {
          "output_type": "stream",
          "text": [
            "First Sum :- 10\n",
            "multiplication:- 6\n",
            "multiplication:- 2\n"
          ],
          "name": "stdout"
        }
      ]
    },
    {
      "cell_type": "code",
      "metadata": {
        "id": "6lMVzmYmPyx_",
        "colab_type": "code",
        "colab": {}
      },
      "source": [
        "# None :- ' Memory ' :- 2"
      ],
      "execution_count": 0,
      "outputs": []
    },
    {
      "cell_type": "markdown",
      "metadata": {
        "id": "VaO7va_BSy4v",
        "colab_type": "text"
      },
      "source": [
        "# Class"
      ]
    },
    {
      "cell_type": "code",
      "metadata": {
        "id": "lRu4MakrUCTP",
        "colab_type": "code",
        "outputId": "dad575bd-38b2-4338-dbea-345b56c4e859",
        "colab": {
          "base_uri": "https://localhost:8080/",
          "height": 51
        }
      },
      "source": [
        "a = 1\n",
        "print(type(a))\n",
        "b = 'aa'\n",
        "print(type(b))"
      ],
      "execution_count": 0,
      "outputs": [
        {
          "output_type": "stream",
          "text": [
            "<class 'int'>\n",
            "<class 'str'>\n"
          ],
          "name": "stdout"
        }
      ]
    },
    {
      "cell_type": "code",
      "metadata": {
        "id": "Grh3EtlOPcBR",
        "colab_type": "code",
        "outputId": "7a63bc90-4198-40f8-d14e-9b4dc2c8f56b",
        "colab": {
          "base_uri": "https://localhost:8080/",
          "height": 51
        }
      },
      "source": [
        "class Computer():\n",
        "  \n",
        "  def addition(self, a, b, c, d):\n",
        "    sum = a+b+c+d\n",
        "    self.sum = sum\n",
        "    return sum\n",
        "\n",
        "\n",
        "  def sub(self,a,b ):\n",
        "    subt = a-b-self.sum\n",
        "    return subt \n",
        "\n",
        "\n",
        "\n",
        "a = Computer()\n",
        "print(type(a))\n",
        "a.addition(1,2,3,4)\n",
        "a.sub(1,2)\n",
        "\n"
      ],
      "execution_count": 0,
      "outputs": [
        {
          "output_type": "stream",
          "text": [
            "<class '__main__.Computer'>\n"
          ],
          "name": "stdout"
        },
        {
          "output_type": "execute_result",
          "data": {
            "text/plain": [
              "-11"
            ]
          },
          "metadata": {
            "tags": []
          },
          "execution_count": 28
        }
      ]
    },
    {
      "cell_type": "code",
      "metadata": {
        "id": "89WEjqpXSVby",
        "colab_type": "code",
        "colab": {}
      },
      "source": [
        "class December():\n",
        "\n",
        "  \n",
        "  def __init__(self,a,b,c,d):\n",
        "    self.a = a\n",
        "    self.b = b\n",
        "    self.c = c\n",
        "    self.d = d\n",
        "\n",
        "\n",
        "  def addition(self):\n",
        "    sum = self.a+self.b+self.c+self.d\n",
        "    self.sum = sum\n",
        "    return sum\n",
        "\n",
        "\n",
        "  def sub(self):\n",
        "    subt = self.a-self.b-self.sum\n",
        "    return subt   \n",
        "\n",
        "\n",
        "\n",
        "a = December(1,2,3,4)\n",
        "a.addition()\n",
        "\n"
      ],
      "execution_count": 0,
      "outputs": []
    },
    {
      "cell_type": "markdown",
      "metadata": {
        "id": "bPCeoU5cVMAE",
        "colab_type": "text"
      },
      "source": [
        "# Inheritance"
      ]
    },
    {
      "cell_type": "code",
      "metadata": {
        "id": "Ss4NoZobTFCI",
        "colab_type": "code",
        "outputId": "4b3c0630-60ea-48bf-dc31-516cd46acf8c",
        "colab": {
          "base_uri": "https://localhost:8080/",
          "height": 119
        }
      },
      "source": [
        "class A():\n",
        "  \n",
        "  def function1(self):\n",
        "    a= \"This is Function 1\"\n",
        "    return a\n",
        "\n",
        "  def function2(self):\n",
        "    a=\"This is Function 2\"\n",
        "    return a\n",
        "\n",
        "\n",
        "class B(A):\n",
        "  \n",
        "  def function3(self):\n",
        "    a=\"This is Function 3\"\n",
        "    return a\n",
        "\n",
        "  def function4(self):\n",
        "    a=\"This is function 4\"\n",
        "    return a \n",
        "\n",
        " \n",
        "\n",
        "# Calling the Parent Class\n",
        "a1 = A()\n",
        "print(\"Parent class function1\", a1.function1())\n",
        "print(\"Parent class function1\", a1.function2())   \n",
        "\n",
        "# Calling the parent class from child class.\n",
        "a2 = B()\n",
        "print(\"Parent class function\", a2.function1())\n",
        "print(\"Parent class function\", a2.function2())\n",
        "\n",
        "print(\"Child class function\", a2.function3())\n",
        "print(\"Child class Function\", a2.function4())\n"
      ],
      "execution_count": 0,
      "outputs": [
        {
          "output_type": "stream",
          "text": [
            "Parent class function1 This is Function 1\n",
            "Parent class function1 This is Function 2\n",
            "Parent class function This is Function 1\n",
            "Parent class function This is Function 2\n",
            "Child class function This is Function 3\n",
            "Child class Function This is function 4\n"
          ],
          "name": "stdout"
        }
      ]
    },
    {
      "cell_type": "markdown",
      "metadata": {
        "id": "hWnv7wkQYIon",
        "colab_type": "text"
      },
      "source": [
        "# Encapsulation"
      ]
    },
    {
      "cell_type": "code",
      "metadata": {
        "id": "p9iEO3Odjmxu",
        "colab_type": "code",
        "colab": {}
      },
      "source": [
        "priyank = 9 # public \n",
        "_priyank = 9 # protected\n",
        "__priyank = 9 # private"
      ],
      "execution_count": 0,
      "outputs": []
    },
    {
      "cell_type": "code",
      "metadata": {
        "id": "X1jhN-t5WJBy",
        "colab_type": "code",
        "outputId": "397a3faf-ef07-414b-c807-5bb06f8bbbe3",
        "colab": {
          "base_uri": "https://localhost:8080/",
          "height": 51
        }
      },
      "source": [
        "\n",
        "# It describes the idea of wrapping data and the methods that work on data within one unit. \n",
        "# This puts restrictions on accessing variables and methods directly and can prevent the accidental modification of data.\n",
        "# Creating a base class \n",
        "class Base: \n",
        "    def __init__(self): \n",
        "          \n",
        "        # Protected member \n",
        "        self._a = 2\n",
        "  \n",
        "# Creating a derived class     \n",
        "class Derived(Base): \n",
        "    def __init__(self): \n",
        "          \n",
        "        # Calling constructor of \n",
        "        # Base class \n",
        "        Base.__init__(self)  \n",
        "        print(\"Calling protected member of base class: \") \n",
        "        print(self._a) \n",
        "          \n",
        "obj1 = Base() \n",
        "  \n",
        "# Calling protected member \n",
        "# Outside class will  result in  \n",
        "# AttributeError \n",
        "# print(obj1.a) \n",
        "  \n",
        "obj2 = Derived()"
      ],
      "execution_count": 0,
      "outputs": [
        {
          "output_type": "stream",
          "text": [
            "Calling protected member of base class: \n",
            "2\n"
          ],
          "name": "stdout"
        }
      ]
    },
    {
      "cell_type": "code",
      "metadata": {
        "id": "6qj4VAjAlceX",
        "colab_type": "code",
        "colab": {}
      },
      "source": [
        "class vaibhav():\n",
        "\n",
        "  def __init__(self)\n",
        "    self.a = a\n",
        "    self.b = b\n",
        "    self.c = c\n",
        "    self.d = d\n",
        "\n",
        "  def addition(self):\n",
        "    return\n",
        "\n",
        "  def sub(self):\n",
        "    return\n",
        "\n",
        "\n",
        "  def multi(self):\n",
        "  return\n",
        "\n",
        "  def div(self):\n",
        "  return  \n",
        "\n",
        "  def main(self)\n",
        "    a = self.addition()\n",
        "    b = self.sub()\n",
        "    c = self.multi()\n",
        "    d = self.div()\n",
        "    out = a+b+c+d\n",
        "    return out \n",
        "\n",
        "\n",
        "obj = vaibhav(1,2,3,4) \n",
        "obj.main()   \n"
      ],
      "execution_count": 0,
      "outputs": []
    },
    {
      "cell_type": "code",
      "metadata": {
        "id": "6f0nwFgYn0kp",
        "colab_type": "code",
        "colab": {}
      },
      "source": [
        "class vaibhav():\n",
        "\n",
        "  def __init__(self)\n",
        "    self.a = a\n",
        "    self.b = b\n",
        "    self.c = c\n",
        "    self.d = d\n",
        "\n",
        "  def addition(self):\n",
        "    return\n",
        "\n",
        "  def sub(self):\n",
        "    return\n",
        "\n",
        "class overriding():\n",
        "  def addition(self):\n",
        "    return\n",
        "  \n",
        "  \n",
        "  def multi(self):\n",
        "  return\n",
        "\n",
        "  def div(self):\n",
        "  return  \n",
        "\n",
        "  def main(self)\n",
        "    a = self.addition()\n",
        "    b = self.sub()\n",
        "    c = self.multi()\n",
        "    d = self.div()\n",
        "    out = a+b+c+d\n",
        "    return out \n",
        "\n",
        "\n",
        "obj = vaibhav(1,2,3,4) \n",
        "obj.main()   \n"
      ],
      "execution_count": 0,
      "outputs": []
    },
    {
      "cell_type": "markdown",
      "metadata": {
        "id": "ws0lnPgVtJKO",
        "colab_type": "text"
      },
      "source": [
        "# Ploymorphism, Method Overloading and Overriding"
      ]
    },
    {
      "cell_type": "code",
      "metadata": {
        "id": "HsPPCA9tYM00",
        "colab_type": "code",
        "outputId": "79dbbe6a-d2e7-44f7-c192-d723f55e8aca",
        "colab": {
          "base_uri": "https://localhost:8080/",
          "height": 68
        }
      },
      "source": [
        "# Method Overloading. \n",
        "class Calculator():\n",
        "  \n",
        "  def addition(self, a=None, b=None, c=None):\n",
        "    if a != None and b != None and c != None:\n",
        "      sum = a+b+c\n",
        "    elif c == None and b != None: \n",
        "      sum = a+b\n",
        "    elif b == None and c == None:\n",
        "      sum = a\n",
        "    return sum\n",
        "  \n",
        "\n",
        "cal = Calculator()\n",
        "print(\"First\", cal.addition(1,2,3))\n",
        "print(\"Second\", cal.addition(1,2))\n",
        "print(\"Third\", cal.addition(1))\n",
        "\n",
        "\n",
        "# Mehtod Overriding :- If you have already written a function in one class and you are again writing the same function in another class then you are overiding."
      ],
      "execution_count": 3,
      "outputs": [
        {
          "output_type": "stream",
          "text": [
            "First 6\n",
            "Second 3\n",
            "Third 1\n"
          ],
          "name": "stdout"
        }
      ]
    },
    {
      "cell_type": "code",
      "metadata": {
        "id": "4kKmid0TXtyF",
        "colab_type": "code",
        "colab": {}
      },
      "source": [
        "class a():\n",
        "  def sum():\n",
        "    return\n",
        "\n",
        "class b(a):\n",
        "  def sub():\n",
        "    return \n",
        "\n",
        " \n"
      ],
      "execution_count": 0,
      "outputs": []
    },
    {
      "cell_type": "code",
      "metadata": {
        "id": "5H1278r6uG_I",
        "colab_type": "code",
        "colab": {}
      },
      "source": [
        "# Abstraction in Python is the process of hiding the real implementation of an application from the user and emphasizing only on usage of it. \n",
        "# For example, consider you have bought a new electronic gadget. \n",
        "# Along with the gadget, you get a user guide, instructing how to use the application, \n",
        "# but this user guide has no info regarding the internal working of the gadget."
      ],
      "execution_count": 0,
      "outputs": []
    },
    {
      "cell_type": "markdown",
      "metadata": {
        "id": "y11iZkDIzuv7",
        "colab_type": "text"
      },
      "source": [
        "[link text](https://)# Indexing Loc, Iloc "
      ]
    },
    {
      "cell_type": "code",
      "metadata": {
        "id": "9gU1jLtLvO_0",
        "colab_type": "code",
        "colab": {}
      },
      "source": [
        ""
      ],
      "execution_count": 0,
      "outputs": []
    },
    {
      "cell_type": "code",
      "metadata": {
        "id": "7b3LQIq10jPd",
        "colab_type": "code",
        "colab": {}
      },
      "source": [
        ""
      ],
      "execution_count": 0,
      "outputs": []
    }
  ]
}